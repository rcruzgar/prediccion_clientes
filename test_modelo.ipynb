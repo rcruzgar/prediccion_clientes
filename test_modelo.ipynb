{
  "nbformat": 4,
  "nbformat_minor": 0,
  "metadata": {
    "colab": {
      "name": "test_modelo.ipynb",
      "provenance": [],
      "collapsed_sections": [],
      "machine_shape": "hm"
    },
    "kernelspec": {
      "name": "python3",
      "display_name": "Python 3"
    },
    "accelerator": "GPU"
  },
  "cells": [
    {
      "cell_type": "markdown",
      "metadata": {
        "id": "ekuT-2d6cg6G"
      },
      "source": [
        "# Test real del modelo\n",
        "\n",
        "### Con el modelo entrenado, ahora vamos a predecir datos reales."
      ]
    },
    {
      "cell_type": "code",
      "metadata": {
        "id": "HM87cdkI4_Hf",
        "outputId": "82aa3afe-aba8-4b94-e599-8e94d8a1fcf8",
        "colab": {
          "base_uri": "https://localhost:8080/"
        }
      },
      "source": [
        "import matplotlib.pyplot as plt\n",
        "import numpy as np\n",
        "import pandas as pd\n",
        "import seaborn as sns\n",
        "import joblib\n",
        "from google.colab import drive\n",
        "drive.mount('/content/drive')\n",
        "%matplotlib inline"
      ],
      "execution_count": null,
      "outputs": [
        {
          "output_type": "stream",
          "text": [
            "Mounted at /content/drive\n"
          ],
          "name": "stdout"
        }
      ]
    },
    {
      "cell_type": "code",
      "metadata": {
        "id": "dmAQXuvM4_N1",
        "outputId": "a4b38f3c-c261-4a12-babe-9dc0052bbf8a",
        "colab": {
          "base_uri": "https://localhost:8080/",
          "height": 274
        }
      },
      "source": [
        "df = pd.read_csv('/content/drive/My Drive/DATA_SCIENCE/Factor_Energia/docs/leads_test_03112020.csv', engine='python',  sep=';')\n",
        "df.head()"
      ],
      "execution_count": null,
      "outputs": [
        {
          "output_type": "execute_result",
          "data": {
            "text/html": [
              "<div>\n",
              "<style scoped>\n",
              "    .dataframe tbody tr th:only-of-type {\n",
              "        vertical-align: middle;\n",
              "    }\n",
              "\n",
              "    .dataframe tbody tr th {\n",
              "        vertical-align: top;\n",
              "    }\n",
              "\n",
              "    .dataframe thead th {\n",
              "        text-align: right;\n",
              "    }\n",
              "</style>\n",
              "<table border=\"1\" class=\"dataframe\">\n",
              "  <thead>\n",
              "    <tr style=\"text-align: right;\">\n",
              "      <th></th>\n",
              "      <th>Telf1-3 Digitos</th>\n",
              "      <th>Telf1-1 Digitos</th>\n",
              "      <th>Telf2-3 Digitos</th>\n",
              "      <th>Telf2-1 Digitos</th>\n",
              "      <th>dir_cp</th>\n",
              "      <th>CIF primera letra</th>\n",
              "      <th>NOM</th>\n",
              "      <th>codigo tarifa</th>\n",
              "      <th>potencias_contratadas_en_w_p1</th>\n",
              "      <th>Consumo</th>\n",
              "      <th>codigo_empresa_distribuidora</th>\n",
              "      <th>codigo_tension_v</th>\n",
              "      <th>es_vivienda_habitual</th>\n",
              "      <th>Comercializadora</th>\n",
              "    </tr>\n",
              "  </thead>\n",
              "  <tbody>\n",
              "    <tr>\n",
              "      <th>0</th>\n",
              "      <td>950</td>\n",
              "      <td>9</td>\n",
              "      <td>NaN</td>\n",
              "      <td>NaN</td>\n",
              "      <td>4720</td>\n",
              "      <td>2</td>\n",
              "      <td>ENCARNACION</td>\n",
              "      <td>4</td>\n",
              "      <td>3300</td>\n",
              "      <td>1354</td>\n",
              "      <td>31</td>\n",
              "      <td>2</td>\n",
              "      <td>NaN</td>\n",
              "      <td>927.0</td>\n",
              "    </tr>\n",
              "    <tr>\n",
              "      <th>1</th>\n",
              "      <td>938</td>\n",
              "      <td>9</td>\n",
              "      <td>NaN</td>\n",
              "      <td>NaN</td>\n",
              "      <td>8589</td>\n",
              "      <td>7</td>\n",
              "      <td>JOAN</td>\n",
              "      <td>1</td>\n",
              "      <td>4400</td>\n",
              "      <td>3493</td>\n",
              "      <td>31</td>\n",
              "      <td>2</td>\n",
              "      <td>NaN</td>\n",
              "      <td>762.0</td>\n",
              "    </tr>\n",
              "    <tr>\n",
              "      <th>2</th>\n",
              "      <td>937</td>\n",
              "      <td>9</td>\n",
              "      <td>NaN</td>\n",
              "      <td>NaN</td>\n",
              "      <td>8204</td>\n",
              "      <td>3</td>\n",
              "      <td>ANTONIO</td>\n",
              "      <td>1</td>\n",
              "      <td>10000</td>\n",
              "      <td>11112</td>\n",
              "      <td>31</td>\n",
              "      <td>12</td>\n",
              "      <td>NaN</td>\n",
              "      <td>91.0</td>\n",
              "    </tr>\n",
              "    <tr>\n",
              "      <th>3</th>\n",
              "      <td>934</td>\n",
              "      <td>9</td>\n",
              "      <td>NaN</td>\n",
              "      <td>NaN</td>\n",
              "      <td>8001</td>\n",
              "      <td>3</td>\n",
              "      <td>MARIA ROSA</td>\n",
              "      <td>4</td>\n",
              "      <td>8800</td>\n",
              "      <td>91</td>\n",
              "      <td>31</td>\n",
              "      <td>2</td>\n",
              "      <td>NaN</td>\n",
              "      <td>91.0</td>\n",
              "    </tr>\n",
              "    <tr>\n",
              "      <th>4</th>\n",
              "      <td>934</td>\n",
              "      <td>9</td>\n",
              "      <td>NaN</td>\n",
              "      <td>NaN</td>\n",
              "      <td>8041</td>\n",
              "      <td>5</td>\n",
              "      <td>JOSE FRANCISCO</td>\n",
              "      <td>4</td>\n",
              "      <td>4400</td>\n",
              "      <td>3904</td>\n",
              "      <td>31</td>\n",
              "      <td>2</td>\n",
              "      <td>NaN</td>\n",
              "      <td>NaN</td>\n",
              "    </tr>\n",
              "  </tbody>\n",
              "</table>\n",
              "</div>"
            ],
            "text/plain": [
              "   Telf1-3 Digitos  Telf1-1 Digitos  ...  es_vivienda_habitual  Comercializadora\n",
              "0              950                9  ...                   NaN             927.0\n",
              "1              938                9  ...                   NaN             762.0\n",
              "2              937                9  ...                   NaN              91.0\n",
              "3              934                9  ...                   NaN              91.0\n",
              "4              934                9  ...                   NaN               NaN\n",
              "\n",
              "[5 rows x 14 columns]"
            ]
          },
          "metadata": {
            "tags": []
          },
          "execution_count": 2
        }
      ]
    },
    {
      "cell_type": "code",
      "metadata": {
        "id": "Wlo3XwCK4_QP",
        "outputId": "f33395b9-fc08-4309-9dca-c87a209367d8",
        "colab": {
          "base_uri": "https://localhost:8080/"
        }
      },
      "source": [
        "df.shape"
      ],
      "execution_count": null,
      "outputs": [
        {
          "output_type": "execute_result",
          "data": {
            "text/plain": [
              "(2116, 14)"
            ]
          },
          "metadata": {
            "tags": []
          },
          "execution_count": 3
        }
      ]
    },
    {
      "cell_type": "code",
      "metadata": {
        "id": "bG0om8SL2bwi",
        "outputId": "c19a5ec5-a829-4f3b-ec97-683a50061bc0",
        "colab": {
          "base_uri": "https://localhost:8080/"
        }
      },
      "source": [
        "df.isnull().sum()"
      ],
      "execution_count": null,
      "outputs": [
        {
          "output_type": "execute_result",
          "data": {
            "text/plain": [
              "Telf1-3 Digitos                     0\n",
              "Telf1-1 Digitos                     0\n",
              "Telf2-3 Digitos                  2116\n",
              "Telf2-1 Digitos                  2116\n",
              "dir_cp                              0\n",
              "CIF primera letra                   0\n",
              "NOM                                 4\n",
              "codigo tarifa                       0\n",
              "potencias_contratadas_en_w_p1       0\n",
              "Consumo                             0\n",
              "codigo_empresa_distribuidora        0\n",
              "codigo_tension_v                    0\n",
              "es_vivienda_habitual             2115\n",
              "Comercializadora                    8\n",
              "dtype: int64"
            ]
          },
          "metadata": {
            "tags": []
          },
          "execution_count": 4
        }
      ]
    },
    {
      "cell_type": "markdown",
      "metadata": {
        "id": "N8TN4NiyOz2Z"
      },
      "source": [
        "Sustituimos los *missing values* de la **comercializadora**, por la comercializadora más repetida:"
      ]
    },
    {
      "cell_type": "code",
      "metadata": {
        "id": "w3XAyvlG3pnA",
        "outputId": "fa97fc99-4677-4e6d-9829-c34bce22551e",
        "colab": {
          "base_uri": "https://localhost:8080/"
        }
      },
      "source": [
        "df['Comercializadora'].value_counts().index[0]"
      ],
      "execution_count": null,
      "outputs": [
        {
          "output_type": "execute_result",
          "data": {
            "text/plain": [
              "91.0"
            ]
          },
          "metadata": {
            "tags": []
          },
          "execution_count": 5
        }
      ]
    },
    {
      "cell_type": "code",
      "metadata": {
        "id": "2RH85jIm4cUB"
      },
      "source": [
        "replacements = {'Comercializadora': 91}\n",
        "df.fillna(replacements, inplace=True)"
      ],
      "execution_count": null,
      "outputs": []
    },
    {
      "cell_type": "markdown",
      "metadata": {
        "id": "_oRFgGPMzFSI"
      },
      "source": [
        "Cargamos el modelo entrenado:"
      ]
    },
    {
      "cell_type": "code",
      "metadata": {
        "id": "W0TxuIgbzhIe"
      },
      "source": [
        "modelo = '/content/drive/My Drive/DATA_SCIENCE/Factor_Energia/docs/random_forests4.joblib'"
      ],
      "execution_count": null,
      "outputs": []
    },
    {
      "cell_type": "code",
      "metadata": {
        "id": "k4iNp-zCuHrO"
      },
      "source": [
        "best_model = joblib.load(modelo)"
      ],
      "execution_count": null,
      "outputs": []
    },
    {
      "cell_type": "markdown",
      "metadata": {
        "id": "PHo4rGbHPJmP"
      },
      "source": [
        "Utilizamos las siguientes variables para predecir el estado final de los clientes:"
      ]
    },
    {
      "cell_type": "code",
      "metadata": {
        "id": "KGp2xW9iuHtk"
      },
      "source": [
        "features_list = ['codigo tarifa', 'potencias_contratadas_en_w_p1', 'Consumo',\n",
        "                 'codigo_tension_v', 'Comercializadora', 'dir_cp']\n",
        "test = df[features_list]"
      ],
      "execution_count": null,
      "outputs": []
    },
    {
      "cell_type": "code",
      "metadata": {
        "id": "l9ZLHO7fuHvy"
      },
      "source": [
        "prediccion = best_model.predict(test)"
      ],
      "execution_count": null,
      "outputs": []
    },
    {
      "cell_type": "markdown",
      "metadata": {
        "id": "7T0-rzm8PYAN"
      },
      "source": [
        "Generamos un data frame para guardar las predicciones con dos referencias: la letra del CIF y el nombre."
      ]
    },
    {
      "cell_type": "code",
      "metadata": {
        "id": "HSnt9c625vSh"
      },
      "source": [
        "df_sub = pd.DataFrame({'CIF primera letra': df['CIF primera letra'], 'NOM': df['NOM'], 'Prediccion Estado Final': prediccion})"
      ],
      "execution_count": null,
      "outputs": []
    },
    {
      "cell_type": "code",
      "metadata": {
        "id": "g9eUeJSxuHyJ"
      },
      "source": [
        "df_sub.to_csv('/content/drive/My Drive/DATA_SCIENCE/Factor_Energia/docs/prediccion_final.csv', index=False)"
      ],
      "execution_count": null,
      "outputs": []
    },
    {
      "cell_type": "code",
      "metadata": {
        "id": "UBToOcP75xjH",
        "outputId": "481df8fc-fecf-4ed2-fb98-ba3d91491277",
        "colab": {
          "base_uri": "https://localhost:8080/",
          "height": 204
        }
      },
      "source": [
        "df_sub.head()"
      ],
      "execution_count": null,
      "outputs": [
        {
          "output_type": "execute_result",
          "data": {
            "text/html": [
              "<div>\n",
              "<style scoped>\n",
              "    .dataframe tbody tr th:only-of-type {\n",
              "        vertical-align: middle;\n",
              "    }\n",
              "\n",
              "    .dataframe tbody tr th {\n",
              "        vertical-align: top;\n",
              "    }\n",
              "\n",
              "    .dataframe thead th {\n",
              "        text-align: right;\n",
              "    }\n",
              "</style>\n",
              "<table border=\"1\" class=\"dataframe\">\n",
              "  <thead>\n",
              "    <tr style=\"text-align: right;\">\n",
              "      <th></th>\n",
              "      <th>CIF primera letra</th>\n",
              "      <th>NOM</th>\n",
              "      <th>Prediccion Estado Final</th>\n",
              "    </tr>\n",
              "  </thead>\n",
              "  <tbody>\n",
              "    <tr>\n",
              "      <th>0</th>\n",
              "      <td>2</td>\n",
              "      <td>ENCARNACION</td>\n",
              "      <td>0</td>\n",
              "    </tr>\n",
              "    <tr>\n",
              "      <th>1</th>\n",
              "      <td>7</td>\n",
              "      <td>JOAN</td>\n",
              "      <td>0</td>\n",
              "    </tr>\n",
              "    <tr>\n",
              "      <th>2</th>\n",
              "      <td>3</td>\n",
              "      <td>ANTONIO</td>\n",
              "      <td>0</td>\n",
              "    </tr>\n",
              "    <tr>\n",
              "      <th>3</th>\n",
              "      <td>3</td>\n",
              "      <td>MARIA ROSA</td>\n",
              "      <td>0</td>\n",
              "    </tr>\n",
              "    <tr>\n",
              "      <th>4</th>\n",
              "      <td>5</td>\n",
              "      <td>JOSE FRANCISCO</td>\n",
              "      <td>1</td>\n",
              "    </tr>\n",
              "  </tbody>\n",
              "</table>\n",
              "</div>"
            ],
            "text/plain": [
              "  CIF primera letra             NOM  Prediccion Estado Final\n",
              "0                 2     ENCARNACION                        0\n",
              "1                 7            JOAN                        0\n",
              "2                 3         ANTONIO                        0\n",
              "3                 3      MARIA ROSA                        0\n",
              "4                 5  JOSE FRANCISCO                        1"
            ]
          },
          "metadata": {
            "tags": []
          },
          "execution_count": 19
        }
      ]
    },
    {
      "cell_type": "code",
      "metadata": {
        "id": "upfvldlL7AUj",
        "outputId": "5d8bf91d-76ce-421e-e39c-1b5bb5b4f32e",
        "colab": {
          "base_uri": "https://localhost:8080/"
        }
      },
      "source": [
        "df_sub[df_sub['Prediccion Estado Final'] == 1].value_counts()"
      ],
      "execution_count": null,
      "outputs": [
        {
          "output_type": "execute_result",
          "data": {
            "text/plain": [
              "CIF primera letra  NOM             Prediccion Estado Final\n",
              "3                  ANTONIO         1                          28\n",
              "                   FRANCISCO       1                          15\n",
              "                   JOSE            1                          14\n",
              "                   MANUEL          1                           9\n",
              "                   JUAN            1                           8\n",
              "                                                              ..\n",
              "4                  JESUS           1                           1\n",
              "                   JORDI           1                           1\n",
              "                   JOSE  ABELARDO  1                           1\n",
              "                   JOSE DANIEL     1                           1\n",
              "2                  AGRIPINA        1                           1\n",
              "Length: 338, dtype: int64"
            ]
          },
          "metadata": {
            "tags": []
          },
          "execution_count": 18
        }
      ]
    },
    {
      "cell_type": "markdown",
      "metadata": {
        "id": "xNORdsoqPjN2"
      },
      "source": [
        "\n",
        "\n",
        "---\n",
        "\n"
      ]
    }
  ]
}