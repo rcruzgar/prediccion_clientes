{
  "nbformat": 4,
  "nbformat_minor": 0,
  "metadata": {
    "colab": {
      "name": "Nuevo_Modelo_Clientes.ipynb",
      "provenance": [],
      "collapsed_sections": [],
      "machine_shape": "hm"
    },
    "kernelspec": {
      "name": "python3",
      "display_name": "Python 3"
    },
    "accelerator": "GPU"
  },
  "cells": [
    {
      "cell_type": "markdown",
      "metadata": {
        "id": "hjAg2TFdybia"
      },
      "source": [
        "## **Modelo 2**"
      ]
    },
    {
      "cell_type": "markdown",
      "metadata": {
        "id": "mv8jxobvqOc5"
      },
      "source": [
        "### Imaginemos que en el [primer modelo](https://github.com/rcruzgar/prediccion_clientes/blob/main/Modelo_Clientes.ipynb) se ha producido un *data leakage*, debido a que los teléfonos móviles correspondían en su mayoría a clientes ya contratados realmente. Vamos a crear otro algoritmo para predecir el estado final de los clientes sin utilizar los teléfonos como variables predictoras."
      ]
    },
    {
      "cell_type": "code",
      "metadata": {
        "id": "Qd7OUYATxOim"
      },
      "source": [
        "import matplotlib.pyplot as plt\n",
        "import numpy as np\n",
        "import pandas as pd\n",
        "import seaborn as sns\n",
        "import missingno as msno\n",
        "from google.colab import drive\n",
        "drive.mount('/content/drive')\n",
        "%matplotlib inline"
      ],
      "execution_count": null,
      "outputs": []
    },
    {
      "cell_type": "code",
      "metadata": {
        "id": "ssvJ-nKaxOlO",
        "outputId": "4e647970-c39b-4a2f-f022-4d42b07c3728",
        "colab": {
          "base_uri": "https://localhost:8080/",
          "height": 253
        }
      },
      "source": [
        "df = pd.read_excel('/content/drive/My Drive/DATA_SCIENCE/Factor_Energia/docs/data.xlsx',\n",
        "                   index_col=None, header=21)\n",
        "df.head()"
      ],
      "execution_count": null,
      "outputs": [
        {
          "output_type": "execute_result",
          "data": {
            "text/html": [
              "<div>\n",
              "<style scoped>\n",
              "    .dataframe tbody tr th:only-of-type {\n",
              "        vertical-align: middle;\n",
              "    }\n",
              "\n",
              "    .dataframe tbody tr th {\n",
              "        vertical-align: top;\n",
              "    }\n",
              "\n",
              "    .dataframe thead th {\n",
              "        text-align: right;\n",
              "    }\n",
              "</style>\n",
              "<table border=\"1\" class=\"dataframe\">\n",
              "  <thead>\n",
              "    <tr style=\"text-align: right;\">\n",
              "      <th></th>\n",
              "      <th>Telf1-3 Digitos</th>\n",
              "      <th>Telf1-1 Digitos</th>\n",
              "      <th>Telf2-3 Digitos</th>\n",
              "      <th>Telf2-1 Digitos</th>\n",
              "      <th>dir_cp</th>\n",
              "      <th>CIF primera letra</th>\n",
              "      <th>NOM</th>\n",
              "      <th>codigo tarifa</th>\n",
              "      <th>potencias_contratadas_en_w_p1</th>\n",
              "      <th>Consumo</th>\n",
              "      <th>codigo_empresa_distribuidora</th>\n",
              "      <th>codigo_tension_v</th>\n",
              "      <th>es_vivienda_habitual</th>\n",
              "      <th>Comercializadora</th>\n",
              "      <th>Estado final</th>\n",
              "    </tr>\n",
              "  </thead>\n",
              "  <tbody>\n",
              "    <tr>\n",
              "      <th>0</th>\n",
              "      <td>936</td>\n",
              "      <td>9</td>\n",
              "      <td>NaN</td>\n",
              "      <td>NaN</td>\n",
              "      <td>8290</td>\n",
              "      <td>4</td>\n",
              "      <td>AARON</td>\n",
              "      <td>1</td>\n",
              "      <td>4600</td>\n",
              "      <td>2282.0</td>\n",
              "      <td>31</td>\n",
              "      <td>2</td>\n",
              "      <td>NaN</td>\n",
              "      <td>91.0</td>\n",
              "      <td>0</td>\n",
              "    </tr>\n",
              "    <tr>\n",
              "      <th>1</th>\n",
              "      <td>972</td>\n",
              "      <td>9</td>\n",
              "      <td>NaN</td>\n",
              "      <td>NaN</td>\n",
              "      <td>17497</td>\n",
              "      <td>4</td>\n",
              "      <td>Abalos</td>\n",
              "      <td>5</td>\n",
              "      <td>10392</td>\n",
              "      <td>5412.0</td>\n",
              "      <td>31</td>\n",
              "      <td>6</td>\n",
              "      <td>NaN</td>\n",
              "      <td>91.0</td>\n",
              "      <td>0</td>\n",
              "    </tr>\n",
              "    <tr>\n",
              "      <th>2</th>\n",
              "      <td>933</td>\n",
              "      <td>9</td>\n",
              "      <td>NaN</td>\n",
              "      <td>NaN</td>\n",
              "      <td>8042</td>\n",
              "      <td>4</td>\n",
              "      <td>ABDELHAMID</td>\n",
              "      <td>1</td>\n",
              "      <td>4400</td>\n",
              "      <td>2661.0</td>\n",
              "      <td>31</td>\n",
              "      <td>2</td>\n",
              "      <td>NaN</td>\n",
              "      <td>927.0</td>\n",
              "      <td>0</td>\n",
              "    </tr>\n",
              "    <tr>\n",
              "      <th>3</th>\n",
              "      <td>937</td>\n",
              "      <td>9</td>\n",
              "      <td>NaN</td>\n",
              "      <td>NaN</td>\n",
              "      <td>8380</td>\n",
              "      <td>4</td>\n",
              "      <td>ABDELKADAR</td>\n",
              "      <td>1</td>\n",
              "      <td>6900</td>\n",
              "      <td>3306.0</td>\n",
              "      <td>31</td>\n",
              "      <td>2</td>\n",
              "      <td>NaN</td>\n",
              "      <td>91.0</td>\n",
              "      <td>0</td>\n",
              "    </tr>\n",
              "    <tr>\n",
              "      <th>4</th>\n",
              "      <td>937</td>\n",
              "      <td>9</td>\n",
              "      <td>NaN</td>\n",
              "      <td>NaN</td>\n",
              "      <td>8760</td>\n",
              "      <td>4</td>\n",
              "      <td>ABDELLAH</td>\n",
              "      <td>1</td>\n",
              "      <td>4400</td>\n",
              "      <td>4351.0</td>\n",
              "      <td>31</td>\n",
              "      <td>2</td>\n",
              "      <td>NaN</td>\n",
              "      <td>91.0</td>\n",
              "      <td>0</td>\n",
              "    </tr>\n",
              "  </tbody>\n",
              "</table>\n",
              "</div>"
            ],
            "text/plain": [
              "   Telf1-3 Digitos  Telf1-1 Digitos  ...  Comercializadora  Estado final\n",
              "0              936                9  ...              91.0             0\n",
              "1              972                9  ...              91.0             0\n",
              "2              933                9  ...             927.0             0\n",
              "3              937                9  ...              91.0             0\n",
              "4              937                9  ...              91.0             0\n",
              "\n",
              "[5 rows x 15 columns]"
            ]
          },
          "metadata": {
            "tags": []
          },
          "execution_count": 2
        }
      ]
    },
    {
      "cell_type": "code",
      "metadata": {
        "id": "EZTQT7xsuLm0",
        "outputId": "4b71029c-97d2-4c49-aab4-da28f743f274",
        "colab": {
          "base_uri": "https://localhost:8080/"
        }
      },
      "source": [
        "df.shape"
      ],
      "execution_count": null,
      "outputs": [
        {
          "output_type": "execute_result",
          "data": {
            "text/plain": [
              "(58510, 15)"
            ]
          },
          "metadata": {
            "tags": []
          },
          "execution_count": 3
        }
      ]
    },
    {
      "cell_type": "markdown",
      "metadata": {
        "id": "paoqnu_X5Qg_"
      },
      "source": [
        "### En este notebook nos podemos saltar el análisis exploratorio, aunque sí que eliminaremos algunos outliers para que el modelo final sea más generalizable."
      ]
    },
    {
      "cell_type": "markdown",
      "metadata": {
        "id": "bYQVntuK3NFm"
      },
      "source": [
        "Eliminamos **la primera letra del CIF** y si es **vivienda habitual**:"
      ]
    },
    {
      "cell_type": "code",
      "metadata": {
        "id": "OsHT-2defd0h"
      },
      "source": [
        "df.drop(['CIF primera letra'], axis=1, inplace=True)"
      ],
      "execution_count": null,
      "outputs": []
    },
    {
      "cell_type": "code",
      "metadata": {
        "id": "S17fSFV93Pp7"
      },
      "source": [
        "df.drop(['es_vivienda_habitual'], axis=1, inplace=True)"
      ],
      "execution_count": null,
      "outputs": []
    },
    {
      "cell_type": "markdown",
      "metadata": {
        "id": "6oQrhpXmgCyo"
      },
      "source": [
        "Quitamos los valores *outliers* de **potencia contratada**:"
      ]
    },
    {
      "cell_type": "code",
      "metadata": {
        "id": "dI3ZgUmMfuxg"
      },
      "source": [
        "df = df[(df['potencias_contratadas_en_w_p1'] > 0) & (df['potencias_contratadas_en_w_p1'] < df['potencias_contratadas_en_w_p1'].quantile(0.999))]"
      ],
      "execution_count": null,
      "outputs": []
    },
    {
      "cell_type": "markdown",
      "metadata": {
        "id": "5WwewJZs4WkX"
      },
      "source": [
        "También los *outliers* del **consumo anual**."
      ]
    },
    {
      "cell_type": "code",
      "metadata": {
        "id": "DkxQnsz57sie"
      },
      "source": [
        "print(df['Consumo'].isnull().sum())\n",
        "df = df[pd.notnull(df['Consumo'])]"
      ],
      "execution_count": null,
      "outputs": []
    },
    {
      "cell_type": "code",
      "metadata": {
        "id": "jaMRsY4cpVbl"
      },
      "source": [
        "df = df[(df['Consumo'] > 0) & (df['Consumo'] < df['Consumo'].quantile(0.999))]"
      ],
      "execution_count": null,
      "outputs": []
    },
    {
      "cell_type": "markdown",
      "metadata": {
        "id": "08kaIY872xuc"
      },
      "source": [
        "Del **código de la comercializadora anterior** borramos las filas con valores nulos."
      ]
    },
    {
      "cell_type": "code",
      "metadata": {
        "id": "5JLegnmT2axn"
      },
      "source": [
        "print(df['Comercializadora'].isnull().sum())\n",
        "df = df[pd.notnull(df['Comercializadora'])]"
      ],
      "execution_count": null,
      "outputs": []
    },
    {
      "cell_type": "markdown",
      "metadata": {
        "id": "1htqkfu00-BK"
      },
      "source": [
        "## **Creación del modelo predictivo**\n",
        "\n",
        "### En esta sección diseñaremos varios modelos de Machine Learning para predecir la contratación de clientes en función de algunas de las variables proporcionadas inicialmente. "
      ]
    },
    {
      "cell_type": "code",
      "metadata": {
        "id": "vvTDeKoGaVAp"
      },
      "source": [
        "from sklearn.model_selection import GridSearchCV, cross_val_score, StratifiedKFold, learning_curve, train_test_split\n",
        "from sklearn.metrics import classification_report, confusion_matrix, plot_roc_curve\n",
        "from sklearn.preprocessing import MinMaxScaler\n",
        "from sklearn.ensemble import RandomForestClassifier, AdaBoostClassifier, GradientBoostingClassifier, ExtraTreesClassifier\n",
        "from sklearn.naive_bayes import GaussianNB\n",
        "from sklearn.linear_model import LogisticRegression\n",
        "from sklearn.neighbors import KNeighborsClassifier\n",
        "from sklearn.tree import DecisionTreeClassifier\n",
        "from sklearn.svm import SVC\n",
        "from xgboost import XGBClassifier\n",
        "from time import time\n",
        "from imblearn.over_sampling import RandomOverSampler\n",
        "from imblearn.under_sampling import RandomUnderSampler\n",
        "from collections import Counter"
      ],
      "execution_count": null,
      "outputs": []
    },
    {
      "cell_type": "markdown",
      "metadata": {
        "id": "m4_NXiWfLfoZ"
      },
      "source": [
        "Elegimos las variables predictoras que formarán parte de los modelos:"
      ]
    },
    {
      "cell_type": "code",
      "metadata": {
        "id": "o2UdkRd0XhUH"
      },
      "source": [
        "features_list = ['codigo tarifa', 'potencias_contratadas_en_w_p1', 'Consumo',\n",
        "                'codigo_empresa_distribuidora', 'codigo_tension_v', 'Comercializadora',\n",
        "                 'dir_cp']"
      ],
      "execution_count": null,
      "outputs": []
    },
    {
      "cell_type": "markdown",
      "metadata": {
        "id": "t0WS61kEZbL0"
      },
      "source": [
        "Como es un dataset muy desequilibrado (pocas contrataciones en comparación con las personas que no contratan al final), hay que aplicar una estratificación al dividir en *training* y *test*, para que la variable objetivo *Estado final* esté igual de representada en ambas particiones. De otra manera podríamos experimentar *oversampling* o *undersampling*. Realizamos un *cross validation* con 6 particiones para seleccionar los modelos con los que continuaremos:"
      ]
    },
    {
      "cell_type": "code",
      "metadata": {
        "id": "6cT7TWPIXhbs"
      },
      "source": [
        "X_train, X_test, y_train, y_test = train_test_split(df[features_list], df['Estado final'],\n",
        "                                                    train_size=0.8, stratify = df['Estado final'],\n",
        "                                                    random_state=3, shuffle=True)"
      ],
      "execution_count": null,
      "outputs": []
    },
    {
      "cell_type": "markdown",
      "metadata": {
        "id": "PvGrZl-0lOs8"
      },
      "source": [
        "Tenemos que escalar los datos, ya que vamos a elegir ciertos algoritmos que lo requieren, como SVM. Otros, como los Random Forests, no lo necesitan, pero el resultado sería el mismo. Elegimos el *MinMaxScaler*."
      ]
    },
    {
      "cell_type": "code",
      "metadata": {
        "id": "_NnhckTzlbdF"
      },
      "source": [
        "scaler = MinMaxScaler()\n",
        "scaler.fit(X_train)\n",
        "X_train_scaled = scaler.transform(X_train)\n",
        "X_test_scaled = scaler.transform(X_test)"
      ],
      "execution_count": null,
      "outputs": []
    },
    {
      "cell_type": "code",
      "metadata": {
        "id": "sbiPks4kXhoa"
      },
      "source": [
        "kfold = StratifiedKFold(n_splits=6, random_state=3, shuffle=True)"
      ],
      "execution_count": null,
      "outputs": []
    },
    {
      "cell_type": "markdown",
      "metadata": {
        "id": "Zudnctfka9ow"
      },
      "source": [
        "Inicializamos múltiples algoritmos, ya que no hay un modelo que funcione mejor para todas las situaciones. Así que hay que probar cuál da los mejores resultados."
      ]
    },
    {
      "cell_type": "code",
      "metadata": {
        "id": "DyAbfRH5jwbv"
      },
      "source": [
        "random_state = 3\n",
        "model_list = []\n",
        "\n",
        "# Ensemble Methods\n",
        "model_list.append(AdaBoostClassifier(DecisionTreeClassifier(random_state=random_state),random_state=random_state,learning_rate=0.1))\n",
        "model_list.append(ExtraTreesClassifier(random_state=random_state))\n",
        "model_list.append(GradientBoostingClassifier(random_state=random_state))\n",
        "model_list.append(RandomForestClassifier(random_state=random_state))\n",
        "\n",
        "# GLM\n",
        "model_list.append(LogisticRegression(random_state = random_state))\n",
        "\n",
        "# Naives Bayes\n",
        "model_list.append(GaussianNB())\n",
        "\n",
        "# Nearest Neighbor\n",
        "model_list.append(KNeighborsClassifier())\n",
        "\n",
        "# SVM\n",
        "model_list.append(SVC(random_state=random_state))\n",
        "\n",
        "# xgboost\n",
        "model_list.append(XGBClassifier())"
      ],
      "execution_count": null,
      "outputs": []
    },
    {
      "cell_type": "code",
      "metadata": {
        "id": "bMISaqGHSKEs"
      },
      "source": [
        "t0 = time()\n",
        "cv_results = []\n",
        "for model in model_list :\n",
        "    cv_results.append(cross_val_score(model, X_train_scaled, y=y_train,\n",
        "                                      scoring='f1', cv=kfold, n_jobs=4))\n",
        "\n",
        "print('Tiempo total transcurrido: ', '%.3f'%(time() - t0) , 's')"
      ],
      "execution_count": null,
      "outputs": []
    },
    {
      "cell_type": "markdown",
      "metadata": {
        "id": "3zciebtdLzR3"
      },
      "source": [
        "Evaluamos los modelos con el F1-Score. Esta métrica es más adecuada que otras como la precisión, ya que la muestra está desequilibrada."
      ]
    },
    {
      "cell_type": "code",
      "metadata": {
        "id": "_DXg127cSOsM",
        "outputId": "1ea6f4b6-1fb8-4041-c980-81f3086a8be4",
        "colab": {
          "base_uri": "https://localhost:8080/",
          "height": 351
        }
      },
      "source": [
        "cv_means = []\n",
        "cv_std = []\n",
        "for cv_result in cv_results:\n",
        "    cv_means.append(cv_result.mean())\n",
        "    cv_std.append(cv_result.std())\n",
        "\n",
        "cv_res = pd.DataFrame({'CrossValMeans': cv_means, 'CrossValerrors': cv_std,\n",
        "                       'Modelo':['AdaBoost', 'ExtraTrees', 'GradientBoosting',\n",
        "                       'RandomForest', 'LogisticRegression', 'GaussianNB',\n",
        "                       'KNeighboors', 'SVC', 'Xgboost']})\n",
        "\n",
        "g = sns.barplot('CrossValMeans', 'Modelo', data=cv_res, palette='Set1',\n",
        "                 orient='h', **{'xerr':cv_std})\n",
        "plt.xlim(0, 0.3)\n",
        "g.set_xlabel('Mean F1-score')\n",
        "g = g.set_title('Cross validation scores')"
      ],
      "execution_count": null,
      "outputs": [
        {
          "output_type": "stream",
          "text": [
            "/usr/local/lib/python3.6/dist-packages/seaborn/_decorators.py:43: FutureWarning: Pass the following variables as keyword args: x, y. From version 0.12, the only valid positional argument will be `data`, and passing other arguments without an explicit keyword will result in an error or misinterpretation.\n",
            "  FutureWarning\n"
          ],
          "name": "stderr"
        },
        {
          "output_type": "display_data",
          "data": {
            "image/png": "[encoded data removed]",
            "text/plain": [
              "<Figure size 432x288 with 1 Axes>"
            ]
          },
          "metadata": {
            "tags": [],
            "needs_background": "light"
          }
        }
      ]
    },
    {
      "cell_type": "markdown",
      "metadata": {
        "id": "d66O5UNn5FJX"
      },
      "source": [
        "Elegiremos AdaBoost, ExtraTrees y RandomForest.\n",
        "\n",
        "### **Hyperparameter tuning**\n",
        "\n",
        "Usamos *Search grid* para elegir los parámetros más óptimos para cada algoritmo:"
      ]
    },
    {
      "cell_type": "code",
      "metadata": {
        "id": "RjNmYY2MLihV",
        "outputId": "72b96e84-b42e-4feb-a632-5ab187d27341",
        "colab": {
          "base_uri": "https://localhost:8080/"
        }
      },
      "source": [
        "features_list2 = ['codigo tarifa', 'potencias_contratadas_en_w_p1', 'Consumo',\n",
        "                 'codigo_tension_v', 'Comercializadora', 'dir_cp']\n",
        "\n",
        "X_train2, X_test2, y_train2, y_test2 = train_test_split(df[features_list2], df['Estado final'],\n",
        "                                                    train_size=0.8, stratify = df['Estado final'],\n",
        "                                                    random_state=3, shuffle=True)\n",
        "kfold2 = StratifiedKFold(n_splits=6, random_state=3, shuffle=True)\n",
        "\n",
        "y_train2.value_counts()"
      ],
      "execution_count": null,
      "outputs": [
        {
          "output_type": "execute_result",
          "data": {
            "text/plain": [
              "0    45341\n",
              "1     1095\n",
              "Name: Estado final, dtype: int64"
            ]
          },
          "metadata": {
            "tags": []
          },
          "execution_count": 12
        }
      ]
    },
    {
      "cell_type": "markdown",
      "metadata": {
        "id": "VwutaVmfFflH"
      },
      "source": [
        "Para equilibrar la representación de las dos clases a predecir (0 o no contrata y 1 o contrata), hay que recurrir primero a un *random under sampler*, para reducir el número de instancias de la clase mayoritaria, y posteriormente aumentar la clase minoritaria con un *random over sampler*:"
      ]
    },
    {
      "cell_type": "code",
      "metadata": {
        "id": "E507KsiFCAB3",
        "outputId": "eea93f15-dd9c-4c65-f4a1-c03a4c1cf4e8",
        "colab": {
          "base_uri": "https://localhost:8080/"
        }
      },
      "source": [
        "under = RandomUnderSampler(sampling_strategy=0.1)\n",
        "X_rus, y_rus = under.fit_resample(X_train2, y_train2)\n",
        "print(Counter(y_rus))"
      ],
      "execution_count": null,
      "outputs": [
        {
          "output_type": "stream",
          "text": [
            "Counter({0: 10950, 1: 1095})\n"
          ],
          "name": "stdout"
        },
        {
          "output_type": "stream",
          "text": [
            "/usr/local/lib/python3.6/dist-packages/sklearn/utils/deprecation.py:87: FutureWarning: Function safe_indexing is deprecated; safe_indexing is deprecated in version 0.22 and will be removed in version 0.24.\n",
            "  warnings.warn(msg, category=FutureWarning)\n"
          ],
          "name": "stderr"
        }
      ]
    },
    {
      "cell_type": "code",
      "metadata": {
        "id": "uHUGOEriGOZW",
        "outputId": "5d7c8ad9-82eb-4e84-87ef-2afe05624075",
        "colab": {
          "base_uri": "https://localhost:8080/"
        }
      },
      "source": [
        "over = RandomOverSampler(sampling_strategy=0.9)\n",
        "X_combined_sampling, y_combined_sampling = over.fit_resample(X_rus, y_rus)\n",
        "print(Counter(y_combined_sampling))"
      ],
      "execution_count": null,
      "outputs": [
        {
          "output_type": "stream",
          "text": [
            "/usr/local/lib/python3.6/dist-packages/sklearn/utils/deprecation.py:87: FutureWarning: Function safe_indexing is deprecated; safe_indexing is deprecated in version 0.22 and will be removed in version 0.24.\n",
            "  warnings.warn(msg, category=FutureWarning)\n"
          ],
          "name": "stderr"
        },
        {
          "output_type": "stream",
          "text": [
            "Counter({0: 10950, 1: 9855})\n"
          ],
          "name": "stdout"
        }
      ]
    },
    {
      "cell_type": "markdown",
      "metadata": {
        "id": "LZ6tL_mzHq2p"
      },
      "source": [
        "Search Grid de los hiper-parámetros para los tres algoritmos:"
      ]
    },
    {
      "cell_type": "code",
      "metadata": {
        "id": "7wZAu7SIKF0D"
      },
      "source": [
        "rf2 = RandomForestClassifier()\n",
        "ab = AdaBoostClassifier(DecisionTreeClassifier(random_state=3, max_depth=6))\n",
        "xt = ExtraTreesClassifier()\n",
        "\n",
        "# Random Forests:\n",
        "grid_search_rf2 = {'max_depth': [4, 6, 8, 10],\n",
        "                  'max_features': [4, 5, 6],\n",
        "                  'min_samples_split': [2, 3],\n",
        "                  'min_samples_leaf': [1, 3],\n",
        "                  'criterion': ['gini'],\n",
        "                  'bootstrap': [False],\n",
        "                  'n_estimators' :[200, 220, 250, 300],\n",
        "                  'random_state': [3]}\n",
        "# Ada Boost:\n",
        "grid_search_ab = {'n_estimators': [200, 250, 300, 350],\n",
        "                  'learning_rate': [0.0001, 0.001, 0.01, 0.1, 0.2, 0.5, 1]}\n",
        "\n",
        "# Extra Trees\n",
        "grid_search_xt = {'n_estimators': [100, 200, 250, 300],\n",
        "                  'criterion': ['gini'],\n",
        "                  'bootstrap': [False],\n",
        "                  'max_depth': [6, 8, 10, 12],\n",
        "                  'min_samples_split': [2, 3],\n",
        "                  'min_samples_leaf': [1, 3],\n",
        "                  'max_features': [3, 4, 5, 6]}\n",
        "\n",
        "rf_gs2 = GridSearchCV(rf2, param_grid = grid_search_rf2, cv=kfold2, scoring='f1',\n",
        "    n_jobs= -1, verbose = 1)\n",
        "\n",
        "ab_gs = GridSearchCV(ab, param_grid = grid_search_ab, cv=kfold2, scoring='f1',\n",
        "                     n_jobs= -1, verbose = 1)\n",
        "\n",
        "xt_gs = GridSearchCV(xt, param_grid = grid_search_xt, cv=kfold2, scoring='f1',\n",
        "                     n_jobs= -1, verbose = 1)"
      ],
      "execution_count": null,
      "outputs": []
    },
    {
      "cell_type": "markdown",
      "metadata": {
        "id": "mAmlFYrVI1_B"
      },
      "source": [
        "**Random Forests:**"
      ]
    },
    {
      "cell_type": "code",
      "metadata": {
        "id": "MJYm68d1GlCO",
        "outputId": "f7294786-18ba-4e38-e757-68ab4f0452ce",
        "colab": {
          "base_uri": "https://localhost:8080/"
        }
      },
      "source": [
        "rf_gs2.fit(X_combined_sampling, y_combined_sampling)\n",
        "from joblib import dump\n",
        "rf_best2 = rf_gs2.best_estimator_\n",
        "dump(rf_best2, '/content/drive/My Drive/DATA_SCIENCE/Factor_Energia/docs/random_forests4.joblib')"
      ],
      "execution_count": null,
      "outputs": [
        {
          "output_type": "stream",
          "text": [
            "Fitting 6 folds for each of 192 candidates, totalling 1152 fits\n"
          ],
          "name": "stdout"
        },
        {
          "output_type": "stream",
          "text": [
            "[Parallel(n_jobs=-1)]: Using backend LokyBackend with 4 concurrent workers.\n",
            "[Parallel(n_jobs=-1)]: Done  42 tasks      | elapsed:   47.8s\n",
            "[Parallel(n_jobs=-1)]: Done 192 tasks      | elapsed:  4.0min\n",
            "[Parallel(n_jobs=-1)]: Done 442 tasks      | elapsed: 10.5min\n",
            "[Parallel(n_jobs=-1)]: Done 792 tasks      | elapsed: 22.7min\n",
            "[Parallel(n_jobs=-1)]: Done 1152 out of 1152 | elapsed: 38.5min finished\n"
          ],
          "name": "stderr"
        },
        {
          "output_type": "execute_result",
          "data": {
            "text/plain": [
              "['/content/drive/My Drive/DATA_SCIENCE/Factor_Energia/docs/random_forests4.joblib']"
            ]
          },
          "metadata": {
            "tags": []
          },
          "execution_count": 20
        }
      ]
    },
    {
      "cell_type": "markdown",
      "metadata": {
        "id": "Ae9OneCmUBp5"
      },
      "source": [
        "**Ada Boost:**"
      ]
    },
    {
      "cell_type": "code",
      "metadata": {
        "id": "Q-M8CwljGvWN",
        "outputId": "df1ba940-606c-4896-c3a6-59d7517b9074",
        "colab": {
          "base_uri": "https://localhost:8080/"
        }
      },
      "source": [
        "ab_gs.fit(X_combined_sampling, y_combined_sampling)\n",
        "ab_best = ab_gs.best_estimator_\n",
        "dump(ab_best, '/content/drive/My Drive/DATA_SCIENCE/Factor_Energia/docs/adaboost4.joblib') "
      ],
      "execution_count": null,
      "outputs": [
        {
          "output_type": "stream",
          "text": [
            "Fitting 6 folds for each of 28 candidates, totalling 168 fits\n"
          ],
          "name": "stdout"
        },
        {
          "output_type": "stream",
          "text": [
            "[Parallel(n_jobs=-1)]: Using backend LokyBackend with 4 concurrent workers.\n",
            "[Parallel(n_jobs=-1)]: Done  42 tasks      | elapsed:  2.1min\n",
            "[Parallel(n_jobs=-1)]: Done 168 out of 168 | elapsed:  9.2min finished\n"
          ],
          "name": "stderr"
        },
        {
          "output_type": "execute_result",
          "data": {
            "text/plain": [
              "['/content/drive/My Drive/DATA_SCIENCE/Factor_Energia/docs/adaboost4.joblib']"
            ]
          },
          "metadata": {
            "tags": []
          },
          "execution_count": 21
        }
      ]
    },
    {
      "cell_type": "markdown",
      "metadata": {
        "id": "R0oGzKFNUE7X"
      },
      "source": [
        "**Extra Trees:**"
      ]
    },
    {
      "cell_type": "code",
      "metadata": {
        "id": "EYqadNM6G4n-",
        "outputId": "e7d6849a-0f53-4cbd-858f-78b7809f6ae3",
        "colab": {
          "base_uri": "https://localhost:8080/"
        }
      },
      "source": [
        "xt_gs.fit(X_combined_sampling, y_combined_sampling)\n",
        "xt_best = xt_gs.best_estimator_\n",
        "dump(xt_best, '/content/drive/My Drive/DATA_SCIENCE/Factor_Energia/docs/extratrees4.joblib') "
      ],
      "execution_count": null,
      "outputs": [
        {
          "output_type": "stream",
          "text": [
            "Fitting 6 folds for each of 256 candidates, totalling 1536 fits\n"
          ],
          "name": "stdout"
        },
        {
          "output_type": "stream",
          "text": [
            "[Parallel(n_jobs=-1)]: Using backend LokyBackend with 4 concurrent workers.\n",
            "[Parallel(n_jobs=-1)]: Done  42 tasks      | elapsed:   16.9s\n",
            "[Parallel(n_jobs=-1)]: Done 192 tasks      | elapsed:  1.4min\n",
            "[Parallel(n_jobs=-1)]: Done 442 tasks      | elapsed:  3.6min\n",
            "[Parallel(n_jobs=-1)]: Done 792 tasks      | elapsed:  7.3min\n",
            "[Parallel(n_jobs=-1)]: Done 1242 tasks      | elapsed: 12.5min\n",
            "[Parallel(n_jobs=-1)]: Done 1536 out of 1536 | elapsed: 16.7min finished\n"
          ],
          "name": "stderr"
        },
        {
          "output_type": "execute_result",
          "data": {
            "text/plain": [
              "['/content/drive/My Drive/DATA_SCIENCE/Factor_Energia/docs/extratrees4.joblib']"
            ]
          },
          "metadata": {
            "tags": []
          },
          "execution_count": 22
        }
      ]
    },
    {
      "cell_type": "markdown",
      "metadata": {
        "id": "nZUqnloDG-33"
      },
      "source": [
        "La mejor combinación de parámetros para cada modelo es:"
      ]
    },
    {
      "cell_type": "code",
      "metadata": {
        "id": "g6RbIEwGG_JR",
        "outputId": "6d106ffc-939e-4ff7-860d-52e0cef27c2c",
        "colab": {
          "base_uri": "https://localhost:8080/"
        }
      },
      "source": [
        "print('Random Forests:')\n",
        "print(rf_gs2.best_params_)\n",
        "\n",
        "print('Ada Boost:')\n",
        "print(ab_gs.best_params_)\n",
        "\n",
        "print('Extra Trees:')\n",
        "print(xt_gs.best_params_)"
      ],
      "execution_count": null,
      "outputs": [
        {
          "output_type": "stream",
          "text": [
            "Random Forests:\n",
            "{'bootstrap': False, 'criterion': 'gini', 'max_depth': 10, 'max_features': 4, 'min_samples_leaf': 1, 'min_samples_split': 2, 'n_estimators': 200, 'random_state': 3}\n",
            "Ada Boost:\n",
            "{'learning_rate': 0.2, 'n_estimators': 350}\n",
            "Extra Trees:\n",
            "{'bootstrap': False, 'criterion': 'gini', 'max_depth': 12, 'max_features': 6, 'min_samples_leaf': 1, 'min_samples_split': 2, 'n_estimators': 100}\n"
          ],
          "name": "stdout"
        }
      ]
    },
    {
      "cell_type": "markdown",
      "metadata": {
        "id": "l6VDdOf_kHpv"
      },
      "source": [
        "Ahora vamos a evaluar los 3 modelos. Lo primero, el F1-Score para el training set (cuanto más próximo a 1, mejor):"
      ]
    },
    {
      "cell_type": "code",
      "metadata": {
        "id": "AGbkcCyzHyud",
        "outputId": "d8314543-07c9-4ea8-a404-4e65777eedcf",
        "colab": {
          "base_uri": "https://localhost:8080/"
        }
      },
      "source": [
        "print('Random Forests F1-Score (training): {:.3f}'\n",
        "     .format(rf_gs2.best_score_))\n",
        "print('Ada Boost F1-Score (training): {:.3f}'\n",
        "     .format(ab_gs.best_score_))\n",
        "print('Extra Trees F1-Score (training): {:.3f}'\n",
        "     .format(xt_gs.best_score_))"
      ],
      "execution_count": null,
      "outputs": [
        {
          "output_type": "stream",
          "text": [
            "Random Forests F1-Score (training): 0.857\n",
            "Ada Boost F1-Score (training): 0.983\n",
            "Extra Trees F1-Score (training): 0.819\n"
          ],
          "name": "stdout"
        }
      ]
    },
    {
      "cell_type": "code",
      "metadata": {
        "id": "YhQ7VpVJcu96"
      },
      "source": [
        "def plot_learning_curve(estimator, title, X, y, ylim=None, cv=None,\n",
        "                        n_jobs=-1, train_sizes=np.linspace(.1, 1.0, 5)):\n",
        "    \"\"\"Función para dibujar las training y cross-validation learning curves\"\"\"\n",
        "    plt.figure()\n",
        "    plt.title(title)\n",
        "    if ylim is not None:\n",
        "        plt.ylim(*ylim)\n",
        "    plt.xlabel('Training examples')\n",
        "    plt.ylabel('Score (R2)')\n",
        "    train_sizes, train_scores, test_scores = learning_curve(\n",
        "        estimator, X, y, cv=cv, n_jobs=n_jobs, train_sizes=train_sizes)\n",
        "    train_scores_mean = np.mean(train_scores, axis=1)\n",
        "    train_scores_std = np.std(train_scores, axis=1)\n",
        "    test_scores_mean = np.mean(test_scores, axis=1)\n",
        "    test_scores_std = np.std(test_scores, axis=1)\n",
        "    plt.grid()\n",
        "\n",
        "    plt.fill_between(train_sizes, train_scores_mean - train_scores_std,\n",
        "                     train_scores_mean + train_scores_std, alpha=0.1,\n",
        "                     color='r')\n",
        "    plt.fill_between(train_sizes, test_scores_mean - test_scores_std,\n",
        "                     test_scores_mean + test_scores_std, alpha=0.1, color='b')\n",
        "    plt.plot(train_sizes, train_scores_mean, 'o-', color='r',\n",
        "             label= 'Training score')\n",
        "    plt.plot(train_sizes, test_scores_mean, 'o-', color='b',\n",
        "             label= 'Cross-validation score')\n",
        "    \n",
        "    plt.legend(loc='best')\n",
        "    return plt"
      ],
      "execution_count": null,
      "outputs": []
    },
    {
      "cell_type": "code",
      "metadata": {
        "id": "B7pnNBz4H4Ke",
        "outputId": "6eabafdc-c76a-4c13-a375-9885f442d433",
        "colab": {
          "base_uri": "https://localhost:8080/",
          "height": 851
        }
      },
      "source": [
        "mod_to_plot = ['rf', 'ab', 'xt']\n",
        "info_models = {'ab': ['Ada Boost', ab_gs], 'rf': ['Random Forests', rf_gs2],\n",
        "               'xt': ['Extra Trees', xt_gs]}\n",
        "\n",
        "for mod in mod_to_plot:\n",
        "  g = plot_learning_curve(info_models[mod][1].best_estimator_,\n",
        "                          '{0} learning curves'.format(info_models[mod][0]), \n",
        "                          X_combined_sampling, y_combined_sampling, cv=kfold2) "
      ],
      "execution_count": null,
      "outputs": [
        {
          "output_type": "display_data",
          "data": {
            "image/png": "[encoded data removed]",
            "text/plain": [
              "<Figure size 432x288 with 1 Axes>"
            ]
          },
          "metadata": {
            "tags": [],
            "needs_background": "light"
          }
        },
        {
          "output_type": "display_data",
          "data": {
            "image/png": "[encoded data removed]",
            "text/plain": [
              "<Figure size 432x288 with 1 Axes>"
            ]
          },
          "metadata": {
            "tags": [],
            "needs_background": "light"
          }
        },
        {
          "output_type": "display_data",
          "data": {
            "image/png": "[encoded data removed]",
            "text/plain": [
              "<Figure size 432x288 with 1 Axes>"
            ]
          },
          "metadata": {
            "tags": [],
            "needs_background": "light"
          }
        }
      ]
    },
    {
      "cell_type": "markdown",
      "metadata": {
        "id": "EazMzELt9cUn"
      },
      "source": [
        "Visualizamos la importancia de las variables para predecir el estado final.\n",
        "\n",
        "\n",
        "**Random Forests:**"
      ]
    },
    {
      "cell_type": "code",
      "metadata": {
        "id": "eYCkJsvfIG4N"
      },
      "source": [
        "importances_rf2 = rf_best2.feature_importances_\n",
        "indices_rf2 = np.argsort(importances_rf2)"
      ],
      "execution_count": null,
      "outputs": []
    },
    {
      "cell_type": "code",
      "metadata": {
        "id": "IdFDbcv0INGN",
        "outputId": "b5031fd1-f650-463d-d70d-ef4861b22afb",
        "colab": {
          "base_uri": "https://localhost:8080/"
        }
      },
      "source": [
        "plt.figure(figsize=(10,7))\n",
        "plt.title('Importancia de las variables - Random Forests')\n",
        "plt.barh(range(len(indices_rf2)), importances_rf2[indices_rf2], color=['g','b'], align='center')\n",
        "plt.yticks(range(len(indices_rf2)), [features_list2[i] for i in indices_rf2])\n",
        "plt.xlabel('Importancia Relativa')\n",
        "plt.show()"
      ],
      "execution_count": null,
      "outputs": [
        {
          "output_type": "display_data",
          "data": {
            "image/png": "[encoded data removed]",
            "text/plain": [
              "<Figure size 720x504 with 1 Axes>"
            ]
          },
          "metadata": {
            "tags": [],
            "needs_background": "light"
          }
        }
      ]
    },
    {
      "cell_type": "markdown",
      "metadata": {
        "id": "2RW443qU-sxR"
      },
      "source": [
        "**Ada Boost:**"
      ]
    },
    {
      "cell_type": "code",
      "metadata": {
        "id": "npPFzXg7-9Ke"
      },
      "source": [
        "importances_ab = ab_best.feature_importances_\n",
        "indices_ab = np.argsort(importances_ab)"
      ],
      "execution_count": null,
      "outputs": []
    },
    {
      "cell_type": "code",
      "metadata": {
        "id": "2AUK75S-IR8s",
        "outputId": "8bf31f1d-c1cd-47ff-ec9b-6b0f0af3ceea",
        "colab": {
          "base_uri": "https://localhost:8080/"
        }
      },
      "source": [
        "plt.figure(figsize=(10,7))\n",
        "plt.title('Importancia de las variables - Ada Boost')\n",
        "plt.barh(range(len(indices_ab)), importances_ab[indices_ab], color=['g','b'], align='center')\n",
        "plt.yticks(range(len(indices_ab)), [features_list2[i] for i in indices_ab])\n",
        "plt.xlabel('Importancia Relativa')\n",
        "plt.show()"
      ],
      "execution_count": null,
      "outputs": [
        {
          "output_type": "display_data",
          "data": {
            "image/png": "[encoded data removed]",
            "text/plain": [
              "<Figure size 720x504 with 1 Axes>"
            ]
          },
          "metadata": {
            "tags": [],
            "needs_background": "light"
          }
        }
      ]
    },
    {
      "cell_type": "markdown",
      "metadata": {
        "id": "EakyzG7vrGaO"
      },
      "source": [
        "**Extra Trees**"
      ]
    },
    {
      "cell_type": "code",
      "metadata": {
        "id": "-yZwz3VRrIjY"
      },
      "source": [
        "importances_xt = xt_best.feature_importances_\n",
        "indices_xt = np.argsort(importances_xt)"
      ],
      "execution_count": null,
      "outputs": []
    },
    {
      "cell_type": "code",
      "metadata": {
        "id": "7LVK8ySyIUsK",
        "outputId": "d35bb736-2f6a-4b81-8282-c795f6ba4753",
        "colab": {
          "base_uri": "https://localhost:8080/",
          "height": 54
        }
      },
      "source": [
        "plt.figure(figsize=(10,7))\n",
        "plt.title('Importancia de las variables - Extra Trees')\n",
        "plt.barh(range(len(indices_xt)), importances_xt[indices_xt], color=['g','b'], align='center')\n",
        "plt.yticks(range(len(indices_xt)), [features_list2[i] for i in indices_xt])\n",
        "plt.xlabel('Importancia Relativa')\n",
        "plt.show()"
      ],
      "execution_count": null,
      "outputs": [
        {
          "output_type": "display_data",
          "data": {
            "image/png": "[encoded data removed]",
            "text/plain": [
              "<Figure size 720x504 with 1 Axes>"
            ]
          },
          "metadata": {
            "tags": [],
            "needs_background": "light"
          }
        }
      ]
    },
    {
      "cell_type": "markdown",
      "metadata": {
        "id": "YpwlzEse3FLv"
      },
      "source": [
        "Ahora validamos haciendo las predicciones en datos del test:"
      ]
    },
    {
      "cell_type": "code",
      "metadata": {
        "id": "AiucjQ3-oVE_"
      },
      "source": [
        "rf_test_pred = rf_best2.predict(X_test2)\n",
        "ab_test_pred = ab_best.predict(X_test2)\n",
        "xt_test_pred = xt_best.predict(X_test2)"
      ],
      "execution_count": null,
      "outputs": []
    },
    {
      "cell_type": "markdown",
      "metadata": {
        "id": "xpUhLGSmtzww"
      },
      "source": [
        "Comprobamos el ***Classification report*** (con las principales métricas de evaluación de la predicción) para cada modelo en el *test set*:"
      ]
    },
    {
      "cell_type": "code",
      "metadata": {
        "id": "Dc799JDjIkIM",
        "outputId": "0084da15-d4ae-4c3c-d50a-0993e9a3790a",
        "colab": {
          "base_uri": "https://localhost:8080/"
        }
      },
      "source": [
        "mod_to_plot = ['rf', 'ab', 'xt']\n",
        "pred_models = {'ab': ['Ada Boost', ab_test_pred],\n",
        "               'rf': ['Random Forests', rf_test_pred],\n",
        "               'xt': ['Extra Trees', xt_test_pred]}\n",
        "\n",
        "for mod in mod_to_plot:\n",
        "  cl_report = classification_report(y_test2, pred_models[mod][1], labels=[1, 0]) \n",
        "  print(pred_models[mod][0], '\\n', cl_report, '\\n', '='*55)"
      ],
      "execution_count": null,
      "outputs": [
        {
          "output_type": "stream",
          "text": [
            "Random Forests \n",
            "               precision    recall  f1-score   support\n",
            "\n",
            "           1       0.11      0.69      0.19       274\n",
            "           0       0.99      0.86      0.92     11335\n",
            "\n",
            "    accuracy                           0.86     11609\n",
            "   macro avg       0.55      0.78      0.55     11609\n",
            "weighted avg       0.97      0.86      0.91     11609\n",
            " \n",
            " =======================================================\n",
            "Ada Boost \n",
            "               precision    recall  f1-score   support\n",
            "\n",
            "           1       0.14      0.17      0.15       274\n",
            "           0       0.98      0.97      0.98     11335\n",
            "\n",
            "    accuracy                           0.96     11609\n",
            "   macro avg       0.56      0.57      0.57     11609\n",
            "weighted avg       0.96      0.96      0.96     11609\n",
            " \n",
            " =======================================================\n",
            "Extra Trees \n",
            "               precision    recall  f1-score   support\n",
            "\n",
            "           1       0.09      0.72      0.16       274\n",
            "           0       0.99      0.83      0.90     11335\n",
            "\n",
            "    accuracy                           0.83     11609\n",
            "   macro avg       0.54      0.77      0.53     11609\n",
            "weighted avg       0.97      0.83      0.89     11609\n",
            " \n",
            " =======================================================\n"
          ],
          "name": "stdout"
        }
      ]
    },
    {
      "cell_type": "markdown",
      "metadata": {
        "id": "2mkQ3XMPmmi0"
      },
      "source": [
        "**Matrices de confusión**: Permiten visualmente evaluar el desempeño de cada modelo para predecir la clase objetivo."
      ]
    },
    {
      "cell_type": "code",
      "metadata": {
        "id": "BPVGn4utIo7j",
        "outputId": "04b118fc-a8ea-413f-cd96-0158232fb241",
        "colab": {
          "base_uri": "https://localhost:8080/",
          "height": 601
        }
      },
      "source": [
        "fig1 = plt.figure(figsize=(22, 5))\n",
        "fig1.suptitle('Matrices de Confusión (Sin normalizar)', fontsize=14, fontweight='bold')\n",
        "\n",
        "i = 0\n",
        "for mod in mod_to_plot:\n",
        "    cm = confusion_matrix(y_test2, pred_models[mod][1], labels=[1, 0])\n",
        "    ax = fig1.add_subplot(1, 3, 1 + i)\n",
        "    plt.title(pred_models[mod][0])\n",
        "    im = sns.heatmap(cm, annot=True, cmap='viridis', cbar=True)\n",
        "    plt.xlabel('True label')\n",
        "    plt.ylabel('Predicted label')\n",
        "    i = i + 1\n",
        "plt.show()\n",
        "\n",
        "fig1 = plt.figure(figsize=(22, 5))\n",
        "fig1.suptitle('Matrices de Confusión (Normalizadas)', fontsize=14, fontweight='bold')\n",
        "\n",
        "i = 0\n",
        "for mod in mod_to_plot:\n",
        "    cm = confusion_matrix(y_test2, pred_models[mod][1], labels=[1, 0], normalize = 'true')\n",
        "    ax = fig1.add_subplot(1, 3, 1 + i)\n",
        "    plt.title(pred_models[mod][0])\n",
        "    im = sns.heatmap(cm, annot=True, cmap='viridis', cbar=True)\n",
        "    plt.xlabel('True label')\n",
        "    plt.ylabel('Predicted label')\n",
        "    i = i + 1\n",
        "plt.show()"
      ],
      "execution_count": null,
      "outputs": [
        {
          "output_type": "display_data",
          "data": {
            "image/png": "[encoded data removed]",
            "text/plain": [
              "<Figure size 1584x360 with 6 Axes>"
            ]
          },
          "metadata": {
            "tags": [],
            "needs_background": "light"
          }
        },
        {
          "output_type": "display_data",
          "data": {
            "image/png": "[encoded data removed]",
            "text/plain": [
              "<Figure size 1584x360 with 6 Axes>"
            ]
          },
          "metadata": {
            "tags": [],
            "needs_background": "light"
          }
        }
      ]
    },
    {
      "cell_type": "markdown",
      "metadata": {
        "id": "4EgjVWnSmtuC"
      },
      "source": [
        "**ROC Curve**"
      ]
    },
    {
      "cell_type": "code",
      "metadata": {
        "id": "A9lJ1K0nIulu",
        "outputId": "8ea341cf-0a72-431d-acf4-c7dc9a293a1f",
        "colab": {
          "base_uri": "https://localhost:8080/"
        }
      },
      "source": [
        "rf_disp = plot_roc_curve(rf_best2, X_test2, y_test2, alpha=0.5)\n",
        "ax = plt.gca()\n",
        "ax.plot([0, 1], [0, 1], color='navy', lw=2, linestyle='--')\n",
        "ax.set(xlim=[-0.01, 1.0], ylim=[-0.01, 1.05])\n",
        "ab_disp = plot_roc_curve(ab_best, X_test2, y_test2, ax=ax, alpha=0.5)\n",
        "xt_disp = plot_roc_curve(xt_best, X_test2, y_test2, ax=ax, alpha=0.5)\n",
        "plt.show()"
      ],
      "execution_count": null,
      "outputs": [
        {
          "output_type": "display_data",
          "data": {
            "image/png": "[encoded data removed]",
            "text/plain": [
              "<Figure size 432x288 with 1 Axes>"
            ]
          },
          "metadata": {
            "tags": [],
            "needs_background": "light"
          }
        }
      ]
    },
    {
      "cell_type": "markdown",
      "metadata": {
        "id": "mU4sljLG3d4H"
      },
      "source": [
        "Tras la evaluación de los modelos, el más idóneo para predecir si un cliente potencial terminará contratando los servicios es el **Random Forests**. Las posibles mejoras de los modelos incluirían:\n",
        "\n",
        "- Tuning con Feature Selection. Más variables no significa mejor modelo, sino que a menudo seleccionando las variables predictoras adecuadas se puede obtener un modelo que generalice mejor.\n",
        "\n",
        "- Search Grid más exhaustivo.\n",
        "\n",
        "- Probar más algoritmos. \n",
        "\n",
        "- Modificar los *weigths* de las variables.\n",
        "\n",
        "- Eliminar más a fondo los *outliers* de la muestra. Igualmente, probar con otros métodos de escalado.\n",
        "\n",
        "- Se podrían combinar los modelos mediante un *VotingClassifier*, donde se tengan en cuenta las predicciones de todos los modelos.\n",
        "\n",
        "En el [último notebook](https://github.com/rcruzgar/prediccion_clientes/blob/main/test_modelo.ipynb), cargamos el Random Forests y lo usamos para predecir el estado final de unos clientes."
      ]
    },
    {
      "cell_type": "markdown",
      "metadata": {
        "id": "nRPt0Lojp4Dq"
      },
      "source": [
        "\n",
        "\n",
        "---\n",
        "\n"
      ]
    }
  ]
}